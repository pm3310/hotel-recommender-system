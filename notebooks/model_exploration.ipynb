{
 "cells": [
  {
   "cell_type": "markdown",
   "metadata": {},
   "source": [
    "# Model exploration"
   ]
  },
  {
   "cell_type": "code",
   "execution_count": 1,
   "metadata": {},
   "outputs": [],
   "source": [
    "import pickle\n",
    "\n",
    "with open('../data/processed/sentences.pkl', 'rb') as f:\n",
    "    sentences = pickle.load(f)"
   ]
  },
  {
   "cell_type": "code",
   "execution_count": 2,
   "metadata": {},
   "outputs": [
    {
     "data": {
      "text/plain": [
       "[['64', '64', '5', '29', '29', '46', '46'],\n",
       " ['48', '70', '68', '68', '32'],\n",
       " ['30', '30', '41', '23', '90', '92']]"
      ]
     },
     "execution_count": 2,
     "metadata": {},
     "output_type": "execute_result"
    }
   ],
   "source": [
    "sentences[:3]"
   ]
  },
  {
   "cell_type": "code",
   "execution_count": 3,
   "metadata": {},
   "outputs": [
    {
     "name": "stderr",
     "output_type": "stream",
     "text": [
      "/anaconda3/envs/hotel-recommender-system/lib/python3.7/site-packages/smart_open/smart_open_lib.py:398: UserWarning: This function is deprecated, use smart_open.open instead. See the migration notes for details: https://github.com/RaRe-Technologies/smart_open/blob/master/README.rst#migrating-to-the-new-open-function\n",
      "  'See the migration notes for details: %s' % _MIGRATION_NOTES_URL\n"
     ]
    }
   ],
   "source": [
    "import gensim\n",
    "\n",
    "# Load Word2Vec model\n",
    "model = gensim.models.KeyedVectors.load_word2vec_format('../models/hotelcluster2vec.bin', binary=True)"
   ]
  },
  {
   "cell_type": "code",
   "execution_count": 4,
   "metadata": {},
   "outputs": [
    {
     "name": "stderr",
     "output_type": "stream",
     "text": [
      "/anaconda3/envs/hotel-recommender-system/lib/python3.7/site-packages/ipykernel_launcher.py:3: DeprecationWarning: Call to deprecated `wv` (Attribute will be removed in 4.0.0, use self instead).\n",
      "  This is separate from the ipykernel package so we can avoid doing imports until\n"
     ]
    },
    {
     "data": {
      "text/plain": [
       "array([ 0.12514883, -0.02450064, -0.02095349,  0.03988983, -0.1091572 ,\n",
       "       -0.2874202 , -0.19964585, -0.02807426, -0.08157852,  0.05016961,\n",
       "       -0.03882798,  0.04781124,  0.14371353, -0.03995526,  0.10641642,\n",
       "       -0.10295459,  0.18005459, -0.08423339,  0.16160344, -0.1045582 ,\n",
       "       -0.05298528, -0.41067618, -0.08904506,  0.14310583,  0.10743402,\n",
       "        0.09131785,  0.16966283, -0.07587283, -0.05967099, -0.08437419,\n",
       "       -0.24763635, -0.14182283,  0.16053045,  0.27402323, -0.17822978,\n",
       "        0.11246436,  0.0220388 ,  0.16277674,  0.13798401,  0.05246587,\n",
       "       -0.1819238 ,  0.0446484 , -0.16028509, -0.37925324, -0.21991172,\n",
       "       -0.19880258,  0.07183887, -0.13491505, -0.1548854 , -0.0779023 ,\n",
       "       -0.16841708, -0.11765587, -0.08083312, -0.07907189,  0.05836201,\n",
       "       -0.11464803,  0.00111085, -0.14986552,  0.00170403,  0.06180313,\n",
       "        0.09185671,  0.3516815 , -0.05327577,  0.1609246 ,  0.20647158,\n",
       "       -0.1888329 ,  0.19617221,  0.02277556,  0.05662622,  0.07410412,\n",
       "        0.21075402, -0.01674395,  0.16382745, -0.0716701 ,  0.05835481,\n",
       "        0.11417975,  0.19689408, -0.01418106, -0.15158205, -0.10849683,\n",
       "       -0.05908595,  0.04535065,  0.05988282, -0.21319726, -0.09441927,\n",
       "       -0.14697501,  0.19335988, -0.06125751, -0.12612082, -0.19794631,\n",
       "        0.15347259, -0.10013509,  0.02199676,  0.05546222,  0.11943589,\n",
       "       -0.07769132, -0.27637503,  0.20910384,  0.02901187, -0.2420826 ],\n",
       "      dtype=float32)"
      ]
     },
     "execution_count": 4,
     "metadata": {},
     "output_type": "execute_result"
    }
   ],
   "source": [
    "# Show embedding vector for a specific hotel cluster\n",
    "\n",
    "model.wv['5']"
   ]
  },
  {
   "cell_type": "code",
   "execution_count": 5,
   "metadata": {},
   "outputs": [
    {
     "name": "stderr",
     "output_type": "stream",
     "text": [
      "/anaconda3/envs/hotel-recommender-system/lib/python3.7/site-packages/ipykernel_launcher.py:3: DeprecationWarning: Call to deprecated `wv` (Attribute will be removed in 4.0.0, use self instead).\n",
      "  This is separate from the ipykernel package so we can avoid doing imports until\n",
      "/anaconda3/envs/hotel-recommender-system/lib/python3.7/site-packages/gensim/matutils.py:737: FutureWarning: Conversion of the second argument of issubdtype from `int` to `np.signedinteger` is deprecated. In future, it will be treated as `np.int64 == np.dtype(int).type`.\n",
      "  if np.issubdtype(vec.dtype, np.int):\n"
     ]
    },
    {
     "data": {
      "text/plain": [
       "[('82', 0.4751385748386383),\n",
       " ('29', 0.4686889052391052),\n",
       " ('85', 0.44036930799484253),\n",
       " ('11', 0.41783955693244934),\n",
       " ('78', 0.41437339782714844)]"
      ]
     },
     "execution_count": 5,
     "metadata": {},
     "output_type": "execute_result"
    }
   ],
   "source": [
    "# Show the 5 most \"similar\" hotel clusters\n",
    "\n",
    "model.wv.most_similar('5')[:5]"
   ]
  },
  {
   "cell_type": "code",
   "execution_count": null,
   "metadata": {},
   "outputs": [],
   "source": []
  }
 ],
 "metadata": {
  "kernelspec": {
   "display_name": "Python 3",
   "language": "python",
   "name": "python3"
  },
  "language_info": {
   "codemirror_mode": {
    "name": "ipython",
    "version": 3
   },
   "file_extension": ".py",
   "mimetype": "text/x-python",
   "name": "python",
   "nbconvert_exporter": "python",
   "pygments_lexer": "ipython3",
   "version": "3.7.4"
  }
 },
 "nbformat": 4,
 "nbformat_minor": 2
}
